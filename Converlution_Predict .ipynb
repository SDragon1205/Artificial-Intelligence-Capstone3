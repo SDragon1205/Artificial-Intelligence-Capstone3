{
 "cells": [
  {
   "cell_type": "code",
   "execution_count": 1,
   "id": "f90ef4ac",
   "metadata": {},
   "outputs": [],
   "source": [
    "import pickle, math, cv2,os,sys\n",
    "sys.path.append(os.pardir)  # 親ディレクトリのファイルをインポートするための設定\n",
    "import numpy as np\n",
    "import matplotlib.pyplot as plt\n",
    "from Package.simple_convnet import SimpleConvNet\n",
    "from Package.trainer import Trainer\n",
    "from PIL import Image"
   ]
  },
  {
   "cell_type": "markdown",
   "id": "0c429959",
   "metadata": {},
   "source": [
    "## Network"
   ]
  },
  {
   "cell_type": "code",
   "execution_count": 2,
   "id": "8ad3ee30",
   "metadata": {},
   "outputs": [],
   "source": [
    "max_epochs = 20\n",
    "\n",
    "#初始化網路和參數\n",
    "network = SimpleConvNet(input_dim=(1,32,32), \n",
    "                        conv_param = {'filter_num': 30, 'filter_size': 5, 'pad': 0, 'stride': 1},\n",
    "                        hidden_size=100, output_size=35, weight_init_std=0.01)"
   ]
  },
  {
   "cell_type": "code",
   "execution_count": 3,
   "id": "ac9c77eb",
   "metadata": {},
   "outputs": [
    {
     "name": "stdout",
     "output_type": "stream",
     "text": [
      "Saved Network Parameters!\n"
     ]
    }
   ],
   "source": [
    "network.load_params(\"Carplate_Converlution_weight.pkl\")       \n",
    "print(\"Saved Network Parameters!\")"
   ]
  },
  {
   "cell_type": "markdown",
   "id": "a38ff241",
   "metadata": {},
   "source": [
    "## Incoud Dataset"
   ]
  },
  {
   "cell_type": "code",
   "execution_count": 4,
   "id": "ba30fa11",
   "metadata": {},
   "outputs": [],
   "source": [
    "# 輸入資料\n",
    "with open ('Carplate_dataset_Noflatten.pkl','rb') as f:\n",
    "    x=pickle.load(f)\n",
    "    t=pickle.load(f)\n",
    "    label=pickle.load(f)\n",
    "\n",
    "#打亂資料\n",
    "if isinstance(t,np.ndarray)==0 : t = np.array(t)\n",
    "x = x.reshape(len(x),-1,32,32)\n",
    "times = 100\n",
    "for i in range(times):\n",
    "    batch_mask = np.random.choice(len(x),len(x))\n",
    "    x = x[batch_mask]\n",
    "    t = t[batch_mask]\n",
    "\n",
    "#資料切割\n",
    "indices = [int(len(x) * n) for n in [0.7, 0.7 + 0.2]]  # 建立比例值矩陣  訓練:測試:驗證  0.7 0.2 0.1\n",
    "x_train, x_test, x_val= np.split(x, indices)\n",
    "t_train, t_test, t_val= np.split(t, indices)"
   ]
  },
  {
   "cell_type": "code",
   "execution_count": 5,
   "id": "eddca08e",
   "metadata": {},
   "outputs": [
    {
     "data": {
      "text/plain": [
       "5401"
      ]
     },
     "execution_count": 5,
     "metadata": {},
     "output_type": "execute_result"
    }
   ],
   "source": [
    "len(x_train)"
   ]
  },
  {
   "cell_type": "markdown",
   "id": "74ce219d",
   "metadata": {},
   "source": [
    "## Predict"
   ]
  },
  {
   "cell_type": "code",
   "execution_count": 6,
   "id": "c121755d",
   "metadata": {},
   "outputs": [
    {
     "name": "stdout",
     "output_type": "stream",
     "text": [
      " Accuracy: 0.9209844559585493\n"
     ]
    }
   ],
   "source": [
    "# x ,t = get_data()\n",
    "x=x_val\n",
    "t=t_val\n",
    "accuracy_cnt = 0\n",
    "\n",
    "\n",
    "for i in range(len(x)):\n",
    "    y= network.predict(x[i:i+1])\n",
    "    p= np.argmax(y) # obtain index value of the highest prediction result \n",
    "    #print(\"The \"+str(i)+\"th image predict as : \", label[p] ,\" .\"+\" The actual value should be : \"+ str(label[t[i]]))\n",
    "\n",
    "    if label[p] == str(label[t[i]]):\n",
    "        accuracy_cnt += 1\n",
    "            \n",
    "            \n",
    "print(\" Accuracy: \" + str(float(accuracy_cnt)/len(x)))"
   ]
  },
  {
   "cell_type": "code",
   "execution_count": null,
   "id": "5c11a143",
   "metadata": {},
   "outputs": [],
   "source": []
  }
 ],
 "metadata": {
  "kernelspec": {
   "display_name": "Python 3 (ipykernel)",
   "language": "python",
   "name": "python3"
  },
  "language_info": {
   "codemirror_mode": {
    "name": "ipython",
    "version": 3
   },
   "file_extension": ".py",
   "mimetype": "text/x-python",
   "name": "python",
   "nbconvert_exporter": "python",
   "pygments_lexer": "ipython3",
   "version": "3.9.7"
  }
 },
 "nbformat": 4,
 "nbformat_minor": 5
}
