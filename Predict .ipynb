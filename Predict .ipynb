{
 "cells": [
  {
   "cell_type": "code",
   "execution_count": 1,
   "id": "2265e593",
   "metadata": {},
   "outputs": [],
   "source": [
    "import sys, os\n",
    "sys.path.append(os.pardir)\n",
    "import numpy as np\n",
    "from Package.HWFourLayers import FourLayerNet\n",
    "import pickle, math, cv2,os\n",
    "import matplotlib.pyplot as plt\n",
    "from PIL import Image"
   ]
  },
  {
   "cell_type": "markdown",
   "id": "cbe4bbf7",
   "metadata": {},
   "source": [
    "## Function"
   ]
  },
  {
   "cell_type": "code",
   "execution_count": 2,
   "id": "3e03434f",
   "metadata": {},
   "outputs": [],
   "source": [
    "def init_network():\n",
    "    with open(\"Carplate_weight.pkl\", 'rb') as f:\n",
    "        network_weight =pickle.load(f)\n",
    "    return network_weight\n",
    "\n",
    "from collections import OrderedDict\n",
    "from Package.layers import *\n",
    "\n",
    "def update_weight(self,keys):\n",
    "    for a in keys:\n",
    "        self.params[a] = network_weight[a]\n",
    "    # Layer creation\n",
    "    self.layers = OrderedDict()\n",
    "    self.layers['Affine1'] = Affine(self.params['W1'], self.params['b1'])\n",
    "    self.layers['Relu1'] = Relu()\n",
    "    self.layers['Affine2'] = Affine(self.params['W2'], self.params['b2'])\n",
    "    self.layers['Relu2'] = Relu()\n",
    "    self.layers['Affine3'] = Affine(self.params['W3'], self.params['b3'])\n",
    "    self.layers['Relu3'] = Relu()\n",
    "    self.layers['Affine4'] = Affine(self.params['W4'], self.params['b4'])\n",
    "    self.lastLayer = SoftmaxWithLoss()"
   ]
  },
  {
   "cell_type": "code",
   "execution_count": 3,
   "id": "d34c9756",
   "metadata": {},
   "outputs": [],
   "source": [
    "network = FourLayerNet(input_size=1024, hidden_size_1=150, hidden_size_2=100, hidden_size_3=100, output_size=35)\n",
    "network_weight = init_network()\n",
    "update_weight(network,network_weight.keys())  # 覆蓋權重"
   ]
  },
  {
   "cell_type": "code",
   "execution_count": 4,
   "id": "b373b31a",
   "metadata": {},
   "outputs": [
    {
     "name": "stdout",
     "output_type": "stream",
     "text": [
      "[[-0.0225999   0.00421576 -0.00168795 ...  0.11032438 -0.00540068\n",
      "  -0.0069162 ]\n",
      " [-0.00600137  0.01895916 -0.01391903 ...  0.01373453 -0.00971692\n",
      "  -0.00869058]\n",
      " [ 0.11039873  0.02657046  0.06023698 ... -0.0059964   0.05822959\n",
      "  -0.00231615]\n",
      " ...\n",
      " [-0.0055406  -0.00175487 -0.01608678 ...  0.00237181  0.01623532\n",
      "   0.00388047]\n",
      " [ 0.00946632  0.00277463  0.0052231  ... -0.01699649  0.00424615\n",
      "  -0.01455053]\n",
      " [ 0.14219182  0.01212878  0.07406871 ... -0.00608848  0.06483303\n",
      "  -0.00826577]]\n"
     ]
    }
   ],
   "source": [
    "print(network.params['W2'])"
   ]
  },
  {
   "cell_type": "markdown",
   "id": "e24abb14",
   "metadata": {},
   "source": [
    "## Predict"
   ]
  },
  {
   "cell_type": "code",
   "execution_count": 5,
   "id": "d70c50dd",
   "metadata": {},
   "outputs": [],
   "source": [
    "# 輸入資料\n",
    "with open ('Carplate_dataset.pkl','rb') as f:\n",
    "    x=pickle.load(f)\n",
    "    t=pickle.load(f)\n",
    "    label=pickle.load(f)\n",
    "\n",
    "#打亂資料\n",
    "times = 100\n",
    "for i in range(times):\n",
    "    batch_mask = np.random.choice(len(x),len(x))\n",
    "    x = x[batch_mask]\n",
    "    t = t[batch_mask]\n",
    "\n",
    "#資料切割\n",
    "indices = [int(len(x) * n) for n in [0.7, 0.7 + 0.2]]  # 建立比例值矩陣  訓練:測試:驗證  0.7 0.2 0.1\n",
    "x_train, x_test, x_val= np.split(x, indices)\n",
    "t_train, t_test, t_val= np.split(t, indices)"
   ]
  },
  {
   "cell_type": "code",
   "execution_count": 6,
   "id": "2e07e070",
   "metadata": {},
   "outputs": [
    {
     "name": "stdout",
     "output_type": "stream",
     "text": [
      " Accuracy: 0.45984455958549225\n"
     ]
    }
   ],
   "source": [
    "# x ,t = get_data()\n",
    "x=x_val\n",
    "t=t_val\n",
    "accuracy_cnt = 0\n",
    "\n",
    "for i in range(len(x)):\n",
    "    y= network.predict(x[i:i+1])\n",
    "    p= np.argmax(y) # obtain index value of the highest prediction result \n",
    "    #print(\"The \"+str(i)+\"th image predict as : \", str(label[p]) ,\" .\"+\" The actual value should be : \"+ str(label[np.argmax(t[i])]))\n",
    "\n",
    "    if str(label[p]) == str(label[np.argmax(t[i])]):\n",
    "        accuracy_cnt += 1\n",
    "            \n",
    "            \n",
    "print(\" Accuracy: \" + str(float(accuracy_cnt)/len(x)))"
   ]
  },
  {
   "cell_type": "code",
   "execution_count": null,
   "id": "5f5f1637",
   "metadata": {},
   "outputs": [],
   "source": []
  }
 ],
 "metadata": {
  "kernelspec": {
   "display_name": "Python 3 (ipykernel)",
   "language": "python",
   "name": "python3"
  },
  "language_info": {
   "codemirror_mode": {
    "name": "ipython",
    "version": 3
   },
   "file_extension": ".py",
   "mimetype": "text/x-python",
   "name": "python",
   "nbconvert_exporter": "python",
   "pygments_lexer": "ipython3",
   "version": "3.9.7"
  }
 },
 "nbformat": 4,
 "nbformat_minor": 5
}
